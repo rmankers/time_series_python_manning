{
 "cells": [
  {
   "cell_type": "code",
   "execution_count": 3,
   "metadata": {},
   "outputs": [],
   "source": [
    "import pandas as pd\n",
    "import os\n",
    "from os.path import dirname"
   ]
  },
  {
   "cell_type": "markdown",
   "metadata": {},
   "source": [
    "## Load Data Sets"
   ]
  },
  {
   "cell_type": "code",
   "execution_count": 9,
   "metadata": {},
   "outputs": [],
   "source": [
    "# Point toward data directory\n",
    "data_directory = dirname(os.getcwd()) + '\\\\data\\\\raw'\n",
    "\n",
    "# Read CSVs\n",
    "temp_df = pd.read_csv(data_directory + '\\\\hr_temp_20170201-20200131_subset.csv')\n",
    "energy_df = pd.read_csv(data_directory + '\\\\hrl_load_metered - 20170201-20200131.csv')"
   ]
  },
  {
   "cell_type": "markdown",
   "metadata": {},
   "source": [
    "## View Data Sets"
   ]
  },
  {
   "cell_type": "code",
   "execution_count": 18,
   "metadata": {},
   "outputs": [
    {
     "data": {
      "text/html": [
       "<div>\n",
       "<style scoped>\n",
       "    .dataframe tbody tr th:only-of-type {\n",
       "        vertical-align: middle;\n",
       "    }\n",
       "\n",
       "    .dataframe tbody tr th {\n",
       "        vertical-align: top;\n",
       "    }\n",
       "\n",
       "    .dataframe thead th {\n",
       "        text-align: right;\n",
       "    }\n",
       "</style>\n",
       "<table border=\"1\" class=\"dataframe\">\n",
       "  <thead>\n",
       "    <tr style=\"text-align: right;\">\n",
       "      <th></th>\n",
       "      <th>STATION</th>\n",
       "      <th>DATE</th>\n",
       "      <th>REPORT_TYPE</th>\n",
       "      <th>SOURCE</th>\n",
       "      <th>HourlyDryBulbTemperature</th>\n",
       "    </tr>\n",
       "  </thead>\n",
       "  <tbody>\n",
       "    <tr>\n",
       "      <th>0</th>\n",
       "      <td>72520514762</td>\n",
       "      <td>2017-02-01T00:53:00</td>\n",
       "      <td>FM-15</td>\n",
       "      <td>7</td>\n",
       "      <td>37.0</td>\n",
       "    </tr>\n",
       "    <tr>\n",
       "      <th>1</th>\n",
       "      <td>72520514762</td>\n",
       "      <td>2017-02-01T01:53:00</td>\n",
       "      <td>FM-15</td>\n",
       "      <td>7</td>\n",
       "      <td>37.0</td>\n",
       "    </tr>\n",
       "    <tr>\n",
       "      <th>2</th>\n",
       "      <td>72520514762</td>\n",
       "      <td>2017-02-01T02:53:00</td>\n",
       "      <td>FM-15</td>\n",
       "      <td>7</td>\n",
       "      <td>36.0</td>\n",
       "    </tr>\n",
       "    <tr>\n",
       "      <th>3</th>\n",
       "      <td>72520514762</td>\n",
       "      <td>2017-02-01T03:53:00</td>\n",
       "      <td>FM-15</td>\n",
       "      <td>7</td>\n",
       "      <td>36.0</td>\n",
       "    </tr>\n",
       "    <tr>\n",
       "      <th>4</th>\n",
       "      <td>72520514762</td>\n",
       "      <td>2017-02-01T04:53:00</td>\n",
       "      <td>FM-15</td>\n",
       "      <td>7</td>\n",
       "      <td>36.0</td>\n",
       "    </tr>\n",
       "  </tbody>\n",
       "</table>\n",
       "</div>"
      ],
      "text/plain": [
       "       STATION                 DATE REPORT_TYPE  SOURCE  \\\n",
       "0  72520514762  2017-02-01T00:53:00       FM-15       7   \n",
       "1  72520514762  2017-02-01T01:53:00       FM-15       7   \n",
       "2  72520514762  2017-02-01T02:53:00       FM-15       7   \n",
       "3  72520514762  2017-02-01T03:53:00       FM-15       7   \n",
       "4  72520514762  2017-02-01T04:53:00       FM-15       7   \n",
       "\n",
       "   HourlyDryBulbTemperature  \n",
       "0                      37.0  \n",
       "1                      37.0  \n",
       "2                      36.0  \n",
       "3                      36.0  \n",
       "4                      36.0  "
      ]
     },
     "metadata": {},
     "output_type": "display_data"
    },
    {
     "data": {
      "text/html": [
       "<div>\n",
       "<style scoped>\n",
       "    .dataframe tbody tr th:only-of-type {\n",
       "        vertical-align: middle;\n",
       "    }\n",
       "\n",
       "    .dataframe tbody tr th {\n",
       "        vertical-align: top;\n",
       "    }\n",
       "\n",
       "    .dataframe thead th {\n",
       "        text-align: right;\n",
       "    }\n",
       "</style>\n",
       "<table border=\"1\" class=\"dataframe\">\n",
       "  <thead>\n",
       "    <tr style=\"text-align: right;\">\n",
       "      <th></th>\n",
       "      <th>datetime_beginning_utc</th>\n",
       "      <th>datetime_beginning_ept</th>\n",
       "      <th>nerc_region</th>\n",
       "      <th>mkt_region</th>\n",
       "      <th>zone</th>\n",
       "      <th>load_area</th>\n",
       "      <th>mw</th>\n",
       "      <th>is_verified</th>\n",
       "    </tr>\n",
       "  </thead>\n",
       "  <tbody>\n",
       "    <tr>\n",
       "      <th>0</th>\n",
       "      <td>2/1/2017 5:00</td>\n",
       "      <td>2/1/2017 0:00</td>\n",
       "      <td>RFC</td>\n",
       "      <td>WEST</td>\n",
       "      <td>DUQ</td>\n",
       "      <td>DUQ</td>\n",
       "      <td>1419.881</td>\n",
       "      <td>True</td>\n",
       "    </tr>\n",
       "    <tr>\n",
       "      <th>1</th>\n",
       "      <td>2/1/2017 6:00</td>\n",
       "      <td>2/1/2017 1:00</td>\n",
       "      <td>RFC</td>\n",
       "      <td>WEST</td>\n",
       "      <td>DUQ</td>\n",
       "      <td>DUQ</td>\n",
       "      <td>1379.505</td>\n",
       "      <td>True</td>\n",
       "    </tr>\n",
       "    <tr>\n",
       "      <th>2</th>\n",
       "      <td>2/1/2017 7:00</td>\n",
       "      <td>2/1/2017 2:00</td>\n",
       "      <td>RFC</td>\n",
       "      <td>WEST</td>\n",
       "      <td>DUQ</td>\n",
       "      <td>DUQ</td>\n",
       "      <td>1366.106</td>\n",
       "      <td>True</td>\n",
       "    </tr>\n",
       "    <tr>\n",
       "      <th>3</th>\n",
       "      <td>2/1/2017 8:00</td>\n",
       "      <td>2/1/2017 3:00</td>\n",
       "      <td>RFC</td>\n",
       "      <td>WEST</td>\n",
       "      <td>DUQ</td>\n",
       "      <td>DUQ</td>\n",
       "      <td>1364.453</td>\n",
       "      <td>True</td>\n",
       "    </tr>\n",
       "    <tr>\n",
       "      <th>4</th>\n",
       "      <td>2/1/2017 9:00</td>\n",
       "      <td>2/1/2017 4:00</td>\n",
       "      <td>RFC</td>\n",
       "      <td>WEST</td>\n",
       "      <td>DUQ</td>\n",
       "      <td>DUQ</td>\n",
       "      <td>1391.265</td>\n",
       "      <td>True</td>\n",
       "    </tr>\n",
       "  </tbody>\n",
       "</table>\n",
       "</div>"
      ],
      "text/plain": [
       "  datetime_beginning_utc datetime_beginning_ept nerc_region mkt_region zone  \\\n",
       "0          2/1/2017 5:00          2/1/2017 0:00         RFC       WEST  DUQ   \n",
       "1          2/1/2017 6:00          2/1/2017 1:00         RFC       WEST  DUQ   \n",
       "2          2/1/2017 7:00          2/1/2017 2:00         RFC       WEST  DUQ   \n",
       "3          2/1/2017 8:00          2/1/2017 3:00         RFC       WEST  DUQ   \n",
       "4          2/1/2017 9:00          2/1/2017 4:00         RFC       WEST  DUQ   \n",
       "\n",
       "  load_area        mw  is_verified  \n",
       "0       DUQ  1419.881         True  \n",
       "1       DUQ  1379.505         True  \n",
       "2       DUQ  1366.106         True  \n",
       "3       DUQ  1364.453         True  \n",
       "4       DUQ  1391.265         True  "
      ]
     },
     "metadata": {},
     "output_type": "display_data"
    }
   ],
   "source": [
    "display(temp_df.head())\n",
    "display(energy_df.head())"
   ]
  },
  {
   "cell_type": "code",
   "execution_count": 22,
   "metadata": {},
   "outputs": [],
   "source": [
    "#Subsetting to columns we need\n",
    "temp_df = temp_df[['DATE','HourlyDryBulbTemperature']].rename(columns = {'HourlyDryBulbTemperature':'temp','DATE':'date'})\n",
    "energy_df = energy_df[['datetime_beginning_ept','mw']]"
   ]
  },
  {
   "cell_type": "code",
   "execution_count": 27,
   "metadata": {},
   "outputs": [],
   "source": [
    "\n",
    "#Converting date columns \n",
    "temp_df['date'] = pd.to_datetime(temp_df['date'])\n",
    "energy_df['datetime_beginning_ept'] = pd.to_datetime(energy_df['datetime_beginning_ept'])\n",
    "\n",
    "#Sorting Values based on date \n",
    "temp_df = temp_df.sort_values(by = 'date')\n",
    "energy_df = energy_df.sort_values(by = 'datetime_beginning_ept')"
   ]
  },
  {
   "cell_type": "code",
   "execution_count": 31,
   "metadata": {},
   "outputs": [],
   "source": [
    "# Merge data sets on index now that they are sorted by date\n",
    "master_df = temp_df.merge(energy_df, left_index = True, right_index = True, how = 'inner').drop(columns = ['datetime_beginning_ept'])\n",
    "\n",
    "# Impute missing temp data\n",
    "master_df['temp'] = master_df['temp'].interpolate(method = 'linear')"
   ]
  },
  {
   "cell_type": "code",
   "execution_count": 42,
   "metadata": {},
   "outputs": [],
   "source": [
    "# Creating time based columns\n",
    "master_df['hour'] = master_df.date.dt.hour\n",
    "master_df['weekday'] = master_df.date.dt.weekday\n",
    "master_df['month'] = master_df.date.dt.month\n",
    "master_df['year'] = master_df.date.dt.year\n",
    "\n",
    "#Creating Datetime as index\n",
    "master_df = master_df.set_index('date')"
   ]
  },
  {
   "cell_type": "code",
   "execution_count": 44,
   "metadata": {},
   "outputs": [],
   "source": [
    "#Splitting into train and test\n",
    "test_df = master_df[master_df.index >= '2020-01-01']\n",
    "train_df = master_df[master_df.index < '2020-01-01']"
   ]
  }
 ],
 "metadata": {
  "kernelspec": {
   "display_name": "Python 3",
   "language": "python",
   "name": "python3"
  },
  "language_info": {
   "codemirror_mode": {
    "name": "ipython",
    "version": 3
   },
   "file_extension": ".py",
   "mimetype": "text/x-python",
   "name": "python",
   "nbconvert_exporter": "python",
   "pygments_lexer": "ipython3",
   "version": "3.7.1"
  }
 },
 "nbformat": 4,
 "nbformat_minor": 2
}
